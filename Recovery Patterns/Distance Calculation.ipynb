{
 "cells": [
  {
   "cell_type": "code",
   "execution_count": 1,
   "metadata": {
    "collapsed": true
   },
   "outputs": [],
   "source": [
    "import geopy\n",
    "import pandas as pd\n",
    "from geopy.distance import vincenty"
   ]
  },
  {
   "cell_type": "code",
   "execution_count": 2,
   "metadata": {
    "collapsed": true
   },
   "outputs": [],
   "source": [
    "e1x,e1y = 28.4764, 84.6897\n",
    "e2x, e2y = 27.7784,86.1752"
   ]
  },
  {
   "cell_type": "code",
   "execution_count": 3,
   "metadata": {
    "collapsed": false
   },
   "outputs": [],
   "source": [
    "data = pd.read_csv(\"Nepal_GeoData.csv\",sep=\",\")\n"
   ]
  },
  {
   "cell_type": "code",
   "execution_count": 9,
   "metadata": {
    "collapsed": true
   },
   "outputs": [],
   "source": [
    "data[\"dise1\"]=0.0\n",
    "data[\"dise2\"]=0.0"
   ]
  },
  {
   "cell_type": "code",
   "execution_count": 10,
   "metadata": {
    "collapsed": true
   },
   "outputs": [],
   "source": [
    "for row in data.index:\n",
    "    data.loc[row,'dise1'] =vincenty((data.loc[row,'geo.lat'],data.loc[row,'geo.lon']), (e1x,e1y)).miles"
   ]
  },
  {
   "cell_type": "code",
   "execution_count": 11,
   "metadata": {
    "collapsed": true
   },
   "outputs": [],
   "source": [
    "for row in data.index:\n",
    "    data.loc[row,'dise2'] =vincenty((data.loc[row,'geo.lat'],data.loc[row,'geo.lon']), (e2x,e2y)).miles"
   ]
  },
  {
   "cell_type": "code",
   "execution_count": 12,
   "metadata": {
    "collapsed": false
   },
   "outputs": [
    {
     "data": {
      "text/html": [
       "<div>\n",
       "<table border=\"1\" class=\"dataframe\">\n",
       "  <thead>\n",
       "    <tr style=\"text-align: right;\">\n",
       "      <th></th>\n",
       "      <th>d.favorited</th>\n",
       "      <th>d.id_str</th>\n",
       "      <th>d.favorite_count</th>\n",
       "      <th>d.in_reply_to_status_id_str</th>\n",
       "      <th>d.retweeted</th>\n",
       "      <th>d.retweet_count</th>\n",
       "      <th>d.source</th>\n",
       "      <th>d.lang</th>\n",
       "      <th>d.possibly_sensitive</th>\n",
       "      <th>d.user.id_str</th>\n",
       "      <th>...</th>\n",
       "      <th>d.place.place_type</th>\n",
       "      <th>d.place.full_name</th>\n",
       "      <th>d.place.id</th>\n",
       "      <th>geo.lat</th>\n",
       "      <th>geo.lon</th>\n",
       "      <th>hashtag_list</th>\n",
       "      <th>timezone</th>\n",
       "      <th>datetime</th>\n",
       "      <th>dise1</th>\n",
       "      <th>dise2</th>\n",
       "    </tr>\n",
       "  </thead>\n",
       "  <tbody>\n",
       "    <tr>\n",
       "      <th>0</th>\n",
       "      <td>False</td>\n",
       "      <td>5.891146e+17</td>\n",
       "      <td>3</td>\n",
       "      <td>NaN</td>\n",
       "      <td>False</td>\n",
       "      <td>1</td>\n",
       "      <td>&lt;a href=\"http://twitter.com/download/android\" ...</td>\n",
       "      <td>ne</td>\n",
       "      <td>NaN</td>\n",
       "      <td>1399365542</td>\n",
       "      <td>...</td>\n",
       "      <td>country</td>\n",
       "      <td>Nepal</td>\n",
       "      <td>f1d3a53f8a3cc7e9</td>\n",
       "      <td>27.6888</td>\n",
       "      <td>85.3774</td>\n",
       "      <td>NaN</td>\n",
       "      <td>NaN</td>\n",
       "      <td>2015-04-17 17:13:57</td>\n",
       "      <td>68.595367</td>\n",
       "      <td>49.268042</td>\n",
       "    </tr>\n",
       "    <tr>\n",
       "      <th>1</th>\n",
       "      <td>False</td>\n",
       "      <td>5.894273e+17</td>\n",
       "      <td>3</td>\n",
       "      <td>NaN</td>\n",
       "      <td>False</td>\n",
       "      <td>0</td>\n",
       "      <td>&lt;a href=\"http://twitter.com/download/android\" ...</td>\n",
       "      <td>ne</td>\n",
       "      <td>NaN</td>\n",
       "      <td>1241134855</td>\n",
       "      <td>...</td>\n",
       "      <td>country</td>\n",
       "      <td>Nepal</td>\n",
       "      <td>f1d3a53f8a3cc7e9</td>\n",
       "      <td>27.6789</td>\n",
       "      <td>85.3403</td>\n",
       "      <td>NaN</td>\n",
       "      <td>5.75</td>\n",
       "      <td>2015-04-18 13:56:41</td>\n",
       "      <td>67.784142</td>\n",
       "      <td>51.612350</td>\n",
       "    </tr>\n",
       "    <tr>\n",
       "      <th>2</th>\n",
       "      <td>False</td>\n",
       "      <td>5.897475e+17</td>\n",
       "      <td>0</td>\n",
       "      <td>5.897471e+17</td>\n",
       "      <td>False</td>\n",
       "      <td>0</td>\n",
       "      <td>&lt;a href=\"http://twitter.com/download/android\" ...</td>\n",
       "      <td>hi</td>\n",
       "      <td>NaN</td>\n",
       "      <td>2854219495</td>\n",
       "      <td>...</td>\n",
       "      <td>country</td>\n",
       "      <td>Nepal</td>\n",
       "      <td>f1d3a53f8a3cc7e9</td>\n",
       "      <td>27.7189</td>\n",
       "      <td>85.2833</td>\n",
       "      <td>NaN</td>\n",
       "      <td>-7.00</td>\n",
       "      <td>2015-04-19 11:09:00</td>\n",
       "      <td>63.519663</td>\n",
       "      <td>54.791473</td>\n",
       "    </tr>\n",
       "    <tr>\n",
       "      <th>3</th>\n",
       "      <td>False</td>\n",
       "      <td>5.896474e+17</td>\n",
       "      <td>1</td>\n",
       "      <td>5.896472e+17</td>\n",
       "      <td>False</td>\n",
       "      <td>0</td>\n",
       "      <td>&lt;a href=\"http://twitter.com/download/android\" ...</td>\n",
       "      <td>ne</td>\n",
       "      <td>NaN</td>\n",
       "      <td>624532985</td>\n",
       "      <td>...</td>\n",
       "      <td>country</td>\n",
       "      <td>Nepal</td>\n",
       "      <td>f1d3a53f8a3cc7e9</td>\n",
       "      <td>27.7423</td>\n",
       "      <td>85.3333</td>\n",
       "      <td>NaN</td>\n",
       "      <td>5.75</td>\n",
       "      <td>2015-04-19 04:31:09</td>\n",
       "      <td>64.027921</td>\n",
       "      <td>51.629442</td>\n",
       "    </tr>\n",
       "    <tr>\n",
       "      <th>4</th>\n",
       "      <td>False</td>\n",
       "      <td>5.890443e+17</td>\n",
       "      <td>0</td>\n",
       "      <td>5.890430e+17</td>\n",
       "      <td>False</td>\n",
       "      <td>0</td>\n",
       "      <td>&lt;a href=\"http://twitter.com/download/iphone\" r...</td>\n",
       "      <td>ne</td>\n",
       "      <td>NaN</td>\n",
       "      <td>520390791</td>\n",
       "      <td>...</td>\n",
       "      <td>country</td>\n",
       "      <td>Nepal</td>\n",
       "      <td>f1d3a53f8a3cc7e9</td>\n",
       "      <td>27.7139</td>\n",
       "      <td>85.3103</td>\n",
       "      <td>NaN</td>\n",
       "      <td>NaN</td>\n",
       "      <td>2015-04-17 12:34:51</td>\n",
       "      <td>64.754066</td>\n",
       "      <td>53.171082</td>\n",
       "    </tr>\n",
       "  </tbody>\n",
       "</table>\n",
       "<p>5 rows × 34 columns</p>\n",
       "</div>"
      ],
      "text/plain": [
       "  d.favorited      d.id_str  d.favorite_count  d.in_reply_to_status_id_str  \\\n",
       "0       False  5.891146e+17                 3                          NaN   \n",
       "1       False  5.894273e+17                 3                          NaN   \n",
       "2       False  5.897475e+17                 0                 5.897471e+17   \n",
       "3       False  5.896474e+17                 1                 5.896472e+17   \n",
       "4       False  5.890443e+17                 0                 5.890430e+17   \n",
       "\n",
       "  d.retweeted  d.retweet_count  \\\n",
       "0       False                1   \n",
       "1       False                0   \n",
       "2       False                0   \n",
       "3       False                0   \n",
       "4       False                0   \n",
       "\n",
       "                                            d.source d.lang  \\\n",
       "0  <a href=\"http://twitter.com/download/android\" ...     ne   \n",
       "1  <a href=\"http://twitter.com/download/android\" ...     ne   \n",
       "2  <a href=\"http://twitter.com/download/android\" ...     hi   \n",
       "3  <a href=\"http://twitter.com/download/android\" ...     ne   \n",
       "4  <a href=\"http://twitter.com/download/iphone\" r...     ne   \n",
       "\n",
       "  d.possibly_sensitive  d.user.id_str    ...     d.place.place_type  \\\n",
       "0                  NaN     1399365542    ...                country   \n",
       "1                  NaN     1241134855    ...                country   \n",
       "2                  NaN     2854219495    ...                country   \n",
       "3                  NaN      624532985    ...                country   \n",
       "4                  NaN      520390791    ...                country   \n",
       "\n",
       "   d.place.full_name        d.place.id  geo.lat  geo.lon  hashtag_list  \\\n",
       "0              Nepal  f1d3a53f8a3cc7e9  27.6888  85.3774           NaN   \n",
       "1              Nepal  f1d3a53f8a3cc7e9  27.6789  85.3403           NaN   \n",
       "2              Nepal  f1d3a53f8a3cc7e9  27.7189  85.2833           NaN   \n",
       "3              Nepal  f1d3a53f8a3cc7e9  27.7423  85.3333           NaN   \n",
       "4              Nepal  f1d3a53f8a3cc7e9  27.7139  85.3103           NaN   \n",
       "\n",
       "  timezone             datetime      dise1      dise2  \n",
       "0      NaN  2015-04-17 17:13:57  68.595367  49.268042  \n",
       "1     5.75  2015-04-18 13:56:41  67.784142  51.612350  \n",
       "2    -7.00  2015-04-19 11:09:00  63.519663  54.791473  \n",
       "3     5.75  2015-04-19 04:31:09  64.027921  51.629442  \n",
       "4      NaN  2015-04-17 12:34:51  64.754066  53.171082  \n",
       "\n",
       "[5 rows x 34 columns]"
      ]
     },
     "execution_count": 12,
     "metadata": {},
     "output_type": "execute_result"
    }
   ],
   "source": [
    "data.head(5)"
   ]
  },
  {
   "cell_type": "code",
   "execution_count": 13,
   "metadata": {
    "collapsed": true
   },
   "outputs": [],
   "source": [
    "data.to_csv(\"Nepal_Distances.csv\")"
   ]
  },
  {
   "cell_type": "code",
   "execution_count": null,
   "metadata": {
    "collapsed": true
   },
   "outputs": [],
   "source": []
  }
 ],
 "metadata": {
  "kernelspec": {
   "display_name": "Python 2",
   "language": "python",
   "name": "python2"
  },
  "language_info": {
   "codemirror_mode": {
    "name": "ipython",
    "version": 2
   },
   "file_extension": ".py",
   "mimetype": "text/x-python",
   "name": "python",
   "nbconvert_exporter": "python",
   "pygments_lexer": "ipython2",
   "version": "2.7.12"
  }
 },
 "nbformat": 4,
 "nbformat_minor": 0
}
