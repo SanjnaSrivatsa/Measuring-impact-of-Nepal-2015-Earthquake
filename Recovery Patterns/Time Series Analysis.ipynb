{
 "cells": [
  {
   "cell_type": "markdown",
   "metadata": {},
   "source": [
    "Long Short-Term Memory network is a type of Recurrent Neural Network"
   ]
  },
  {
   "cell_type": "code",
   "execution_count": 2,
   "metadata": {
    "collapsed": false
   },
   "outputs": [
    {
     "name": "stderr",
     "output_type": "stream",
     "text": [
      "Using Theano backend.\n",
      "WARNING (theano.configdefaults): g++ not detected ! Theano will be unable to execute optimized C-implementations (for both CPU and GPU) and will default to Python implementations. Performance will be severely degraded. To remove this warning, set Theano flags cxx to an empty string.\n"
     ]
    }
   ],
   "source": [
    "import numpy\n",
    "import matplotlib.pyplot as plt\n",
    "import pandas\n",
    "import math\n",
    "from keras.models import Sequential\n",
    "from keras.layers import Dense\n",
    "from keras.layers import LSTM\n",
    "from sklearn.preprocessing import MinMaxScaler\n",
    "from sklearn.metrics import mean_squared_error"
   ]
  },
  {
   "cell_type": "code",
   "execution_count": 3,
   "metadata": {
    "collapsed": false
   },
   "outputs": [],
   "source": [
    "# fix random seed for reproducibility\n",
    "numpy.random.seed(7)\n"
   ]
  },
  {
   "cell_type": "code",
   "execution_count": 4,
   "metadata": {
    "collapsed": false
   },
   "outputs": [],
   "source": [
    "# load the dataset\n",
    "dataframe = pandas.read_csv('netreachvolumes.csv', usecols=[1], engine='python')\n",
    "dataset = dataframe.values\n",
    "dataset = dataset.astype('float32')"
   ]
  },
  {
   "cell_type": "code",
   "execution_count": 5,
   "metadata": {
    "collapsed": false
   },
   "outputs": [
    {
     "data": {
      "text/html": [
       "<div>\n",
       "<table border=\"1\" class=\"dataframe\">\n",
       "  <thead>\n",
       "    <tr style=\"text-align: right;\">\n",
       "      <th></th>\n",
       "      <th>Net Reach</th>\n",
       "    </tr>\n",
       "  </thead>\n",
       "  <tbody>\n",
       "    <tr>\n",
       "      <th>count</th>\n",
       "      <td>1.710000e+02</td>\n",
       "    </tr>\n",
       "    <tr>\n",
       "      <th>mean</th>\n",
       "      <td>9.597096e+06</td>\n",
       "    </tr>\n",
       "    <tr>\n",
       "      <th>std</th>\n",
       "      <td>6.485620e+06</td>\n",
       "    </tr>\n",
       "    <tr>\n",
       "      <th>min</th>\n",
       "      <td>1.035764e+06</td>\n",
       "    </tr>\n",
       "    <tr>\n",
       "      <th>25%</th>\n",
       "      <td>5.870565e+06</td>\n",
       "    </tr>\n",
       "    <tr>\n",
       "      <th>50%</th>\n",
       "      <td>8.173524e+06</td>\n",
       "    </tr>\n",
       "    <tr>\n",
       "      <th>75%</th>\n",
       "      <td>1.103199e+07</td>\n",
       "    </tr>\n",
       "    <tr>\n",
       "      <th>max</th>\n",
       "      <td>4.972979e+07</td>\n",
       "    </tr>\n",
       "  </tbody>\n",
       "</table>\n",
       "</div>"
      ],
      "text/plain": [
       "          Net Reach\n",
       "count  1.710000e+02\n",
       "mean   9.597096e+06\n",
       "std    6.485620e+06\n",
       "min    1.035764e+06\n",
       "25%    5.870565e+06\n",
       "50%    8.173524e+06\n",
       "75%    1.103199e+07\n",
       "max    4.972979e+07"
      ]
     },
     "execution_count": 5,
     "metadata": {},
     "output_type": "execute_result"
    }
   ],
   "source": [
    "dataframe.describe()"
   ]
  },
  {
   "cell_type": "code",
   "execution_count": 6,
   "metadata": {
    "collapsed": false
   },
   "outputs": [],
   "source": [
    "# normalize the dataset\n",
    "scaler = MinMaxScaler(feature_range=(0, 1))\n",
    "dataset = scaler.fit_transform(dataset)"
   ]
  },
  {
   "cell_type": "code",
   "execution_count": 7,
   "metadata": {
    "collapsed": false
   },
   "outputs": [
    {
     "name": "stdout",
     "output_type": "stream",
     "text": [
      "(61, 112)\n"
     ]
    }
   ],
   "source": [
    "# split into train and test sets - train set ends on May 12\n",
    "train_size = 61\n",
    "test_size = len(dataset) - train_size\n",
    "train, test = dataset[0:train_size,:], dataset[train_size-2:len(dataset),:]\n",
    "print(len(train), len(test))"
   ]
  },
  {
   "cell_type": "code",
   "execution_count": 8,
   "metadata": {
    "collapsed": true
   },
   "outputs": [],
   "source": [
    "def create_dataset(dataset, look_back=1):\n",
    "    dataX, dataY = [], []\n",
    "    for i in range(len(dataset)-look_back-1):\n",
    "        a = dataset[i:(i+look_back), 0]\n",
    "        dataX.append(a)\n",
    "        dataY.append(dataset[i + look_back, 0])\n",
    "    return numpy.array(dataX), numpy.array(dataY)"
   ]
  },
  {
   "cell_type": "code",
   "execution_count": 9,
   "metadata": {
    "collapsed": true
   },
   "outputs": [],
   "source": [
    "# reshape into X=t and Y=t+1\n",
    "look_back = 1\n",
    "trainX, trainY = create_dataset(train, look_back)\n",
    "testX, testY = create_dataset(test, look_back)"
   ]
  },
  {
   "cell_type": "code",
   "execution_count": 10,
   "metadata": {
    "collapsed": false
   },
   "outputs": [],
   "source": [
    "# reshape input to be [samples, time steps, features]\n",
    "trainX = numpy.reshape(trainX, (trainX.shape[0], 1, trainX.shape[1]))\n",
    "testX = numpy.reshape(testX, (testX.shape[0], 1, testX.shape[1]))"
   ]
  },
  {
   "cell_type": "code",
   "execution_count": 11,
   "metadata": {
    "collapsed": false
   },
   "outputs": [
    {
     "name": "stdout",
     "output_type": "stream",
     "text": [
      "Epoch 1/10\n",
      "1s - loss: 0.0594\n",
      "Epoch 2/10\n",
      "1s - loss: 0.0346\n",
      "Epoch 3/10\n",
      "1s - loss: 0.0231\n",
      "Epoch 4/10\n",
      "1s - loss: 0.0189\n",
      "Epoch 5/10\n",
      "1s - loss: 0.0178\n",
      "Epoch 6/10\n",
      "1s - loss: 0.0177\n",
      "Epoch 7/10\n",
      "1s - loss: 0.0176\n",
      "Epoch 8/10\n",
      "1s - loss: 0.0176\n",
      "Epoch 9/10\n",
      "1s - loss: 0.0175\n",
      "Epoch 10/10\n",
      "1s - loss: 0.0175\n"
     ]
    },
    {
     "data": {
      "text/plain": [
       "<keras.callbacks.History at 0x11c4b630>"
      ]
     },
     "execution_count": 11,
     "metadata": {},
     "output_type": "execute_result"
    }
   ],
   "source": [
    "# create and fit the LSTM network\n",
    "model = Sequential()\n",
    "model.add(LSTM(4, input_dim=look_back))\n",
    "model.add(Dense(1))\n",
    "model.compile(loss='mean_squared_error', optimizer='adam')\n",
    "model.fit(trainX, trainY, nb_epoch=10, batch_size=1, verbose=2)"
   ]
  },
  {
   "cell_type": "code",
   "execution_count": 12,
   "metadata": {
    "collapsed": false,
    "scrolled": true
   },
   "outputs": [
    {
     "name": "stdout",
     "output_type": "stream",
     "text": [
      "Train Score: 6420830.35 RMSE\n",
      "Test Score: 6777212.30 RMSE\n"
     ]
    }
   ],
   "source": [
    "# make predictions\n",
    "trainPredict = model.predict(trainX)\n",
    "testPredict = model.predict(testX)\n",
    "# invert predictions\n",
    "trainPredict = scaler.inverse_transform(trainPredict)\n",
    "trainY = scaler.inverse_transform([trainY])\n",
    "testPredict = scaler.inverse_transform(testPredict)\n",
    "testY = scaler.inverse_transform([testY])\n",
    "# calculate root mean squared error\n",
    "trainScore = math.sqrt(mean_squared_error(trainY[0], trainPredict[:,0]))\n",
    "print('Train Score: %.2f RMSE' % (trainScore))\n",
    "testScore = math.sqrt(mean_squared_error(testY[0], testPredict[:,0]))\n",
    "print('Test Score: %.2f RMSE' % (testScore))"
   ]
  },
  {
   "cell_type": "code",
   "execution_count": 13,
   "metadata": {
    "collapsed": false
   },
   "outputs": [
    {
     "data": {
      "text/plain": [
       "[<matplotlib.lines.Line2D at 0x118fe2b0>]"
      ]
     },
     "execution_count": 13,
     "metadata": {},
     "output_type": "execute_result"
    }
   ],
   "source": [
    "# shift train predictions for plotting\n",
    "trainPredictPlot = numpy.empty_like(dataset)\n",
    "trainPredictPlot[:, :] = numpy.nan\n",
    "trainPredictPlot[look_back:len(trainPredict)+look_back, :] = trainPredict\n",
    "# shift test predictions for plotting\n",
    "testPredictPlot = numpy.empty_like(dataset)\n",
    "testPredictPlot[:, :] = numpy.nan\n",
    "testPredictPlot[len(trainPredict)+(look_back*2)+1-2:len(dataset)-1, :] = testPredict\n",
    "# plot baseline and predictions\n",
    "plt.plot(scaler.inverse_transform(dataset))\n",
    "plt.plot(trainPredictPlot)\n",
    "plt.plot(testPredictPlot)\n",
    "#plt.show()"
   ]
  },
  {
   "cell_type": "code",
   "execution_count": 14,
   "metadata": {
    "collapsed": false
   },
   "outputs": [
    {
     "data": {
      "text/plain": [
       "array([ 14032136.], dtype=float32)"
      ]
     },
     "execution_count": 14,
     "metadata": {},
     "output_type": "execute_result"
    }
   ],
   "source": [
    "trainPredictPlot[59]"
   ]
  },
  {
   "cell_type": "code",
   "execution_count": 15,
   "metadata": {
    "collapsed": false
   },
   "outputs": [
    {
     "data": {
      "text/plain": [
       "array([ nan], dtype=float32)"
      ]
     },
     "execution_count": 15,
     "metadata": {},
     "output_type": "execute_result"
    }
   ],
   "source": [
    "testPredictPlot[59]"
   ]
  },
  {
   "cell_type": "code",
   "execution_count": 16,
   "metadata": {
    "collapsed": true
   },
   "outputs": [],
   "source": [
    "import numpy as np"
   ]
  },
  {
   "cell_type": "code",
   "execution_count": 17,
   "metadata": {
    "collapsed": false
   },
   "outputs": [
    {
     "data": {
      "text/plain": [
       "110"
      ]
     },
     "execution_count": 17,
     "metadata": {},
     "output_type": "execute_result"
    }
   ],
   "source": [
    "np.count_nonzero(~np.isnan(testPredictPlot))"
   ]
  },
  {
   "cell_type": "code",
   "execution_count": 18,
   "metadata": {
    "collapsed": false
   },
   "outputs": [
    {
     "data": {
      "text/plain": [
       "array([ 14966257.], dtype=float32)"
      ]
     },
     "execution_count": 18,
     "metadata": {},
     "output_type": "execute_result"
    }
   ],
   "source": [
    "testPredictPlot[60]"
   ]
  },
  {
   "cell_type": "code",
   "execution_count": 19,
   "metadata": {
    "collapsed": false
   },
   "outputs": [],
   "source": [
    "trainPredictPlot[60:] = testPredictPlot[60:]"
   ]
  },
  {
   "cell_type": "code",
   "execution_count": 20,
   "metadata": {
    "collapsed": false
   },
   "outputs": [
    {
     "data": {
      "text/plain": [
       "array([[       nan],\n",
       "       [ 12249573.],\n",
       "       [ 12651656.],\n",
       "       [ 12185246.],\n",
       "       [ 12483526.],\n",
       "       [ 13020171.],\n",
       "       [ 12860371.],\n",
       "       [ 13791076.],\n",
       "       [ 13060127.],\n",
       "       [ 12671042.],\n",
       "       [ 12705147.],\n",
       "       [ 12709331.],\n",
       "       [ 12601954.],\n",
       "       [ 12860981.],\n",
       "       [ 12420385.],\n",
       "       [ 12212492.],\n",
       "       [ 12299818.],\n",
       "       [ 12219980.],\n",
       "       [ 12227456.],\n",
       "       [ 12235809.],\n",
       "       [ 12417684.],\n",
       "       [ 12356925.],\n",
       "       [ 12176556.],\n",
       "       [ 12219850.],\n",
       "       [ 12256937.],\n",
       "       [ 12478849.],\n",
       "       [ 12461597.],\n",
       "       [ 12371209.],\n",
       "       [ 13267556.],\n",
       "       [ 13180627.],\n",
       "       [ 13446882.],\n",
       "       [ 13016415.],\n",
       "       [ 13645996.],\n",
       "       [ 13109773.],\n",
       "       [ 13068709.],\n",
       "       [ 12899793.],\n",
       "       [ 12449484.],\n",
       "       [ 12488706.],\n",
       "       [ 13134220.],\n",
       "       [ 12344841.],\n",
       "       [ 12942468.],\n",
       "       [ 14866024.],\n",
       "       [ 18031936.],\n",
       "       [ 12518429.],\n",
       "       [ 12778576.],\n",
       "       [ 13126175.],\n",
       "       [ 12908876.],\n",
       "       [ 16821202.],\n",
       "       [ 12735309.],\n",
       "       [ 12629929.],\n",
       "       [ 13018110.],\n",
       "       [ 12591983.],\n",
       "       [ 13815635.],\n",
       "       [ 12837222.],\n",
       "       [ 13815490.],\n",
       "       [ 13232275.],\n",
       "       [ 13016568.],\n",
       "       [ 12746867.],\n",
       "       [ 13757101.],\n",
       "       [ 14032136.],\n",
       "       [ 14966257.],\n",
       "       [ 14762188.],\n",
       "       [ 19076098.],\n",
       "       [ 15466003.],\n",
       "       [ 13713550.],\n",
       "       [ 12368828.],\n",
       "       [ 12325559.],\n",
       "       [ 12364280.],\n",
       "       [ 12416262.],\n",
       "       [ 13040218.],\n",
       "       [ 12667853.],\n",
       "       [ 12420176.],\n",
       "       [ 12095921.],\n",
       "       [ 12442565.],\n",
       "       [ 11843852.],\n",
       "       [ 12273151.],\n",
       "       [ 12392452.],\n",
       "       [ 12241090.],\n",
       "       [ 12681466.],\n",
       "       [ 14478686.],\n",
       "       [ 12929304.],\n",
       "       [ 12146098.],\n",
       "       [ 12156492.],\n",
       "       [ 12542082.],\n",
       "       [ 12175720.],\n",
       "       [ 12216788.],\n",
       "       [ 12700426.],\n",
       "       [ 12733682.],\n",
       "       [ 12432803.],\n",
       "       [ 12660229.],\n",
       "       [ 12274866.],\n",
       "       [ 12388720.],\n",
       "       [ 12174144.],\n",
       "       [ 12550003.],\n",
       "       [ 11941202.],\n",
       "       [ 12170595.],\n",
       "       [ 12269610.],\n",
       "       [ 12448387.],\n",
       "       [ 12630419.],\n",
       "       [ 12429844.],\n",
       "       [ 13012295.],\n",
       "       [ 12205902.],\n",
       "       [ 12443660.],\n",
       "       [ 12023237.],\n",
       "       [ 12087981.],\n",
       "       [ 11925878.],\n",
       "       [ 12835016.],\n",
       "       [ 12236864.],\n",
       "       [ 12078882.],\n",
       "       [ 12647809.],\n",
       "       [ 12073921.],\n",
       "       [ 12040182.],\n",
       "       [ 11949301.],\n",
       "       [ 12197095.],\n",
       "       [ 11859483.],\n",
       "       [ 12170792.],\n",
       "       [ 11842327.],\n",
       "       [ 11981870.],\n",
       "       [ 12805680.],\n",
       "       [ 12022976.],\n",
       "       [ 12633114.],\n",
       "       [ 11789864.],\n",
       "       [ 11741246.],\n",
       "       [ 12141356.],\n",
       "       [ 11966613.],\n",
       "       [ 11677493.],\n",
       "       [ 11790964.],\n",
       "       [ 12021489.],\n",
       "       [ 12117640.],\n",
       "       [ 11852034.],\n",
       "       [ 12045219.],\n",
       "       [ 11930291.],\n",
       "       [ 12747446.],\n",
       "       [ 12062887.],\n",
       "       [ 11916695.],\n",
       "       [ 11888655.],\n",
       "       [ 11852149.],\n",
       "       [ 11898581.],\n",
       "       [ 11899027.],\n",
       "       [ 12282441.],\n",
       "       [ 12121412.],\n",
       "       [ 11768130.],\n",
       "       [ 11983410.],\n",
       "       [ 11921796.],\n",
       "       [ 12116822.],\n",
       "       [ 11913852.],\n",
       "       [ 12639032.],\n",
       "       [ 11980227.],\n",
       "       [ 11864072.],\n",
       "       [ 12074951.],\n",
       "       [ 11841354.],\n",
       "       [ 11751408.],\n",
       "       [ 12343355.],\n",
       "       [ 12356552.],\n",
       "       [ 12283379.],\n",
       "       [ 12553230.],\n",
       "       [ 12020538.],\n",
       "       [ 12276724.],\n",
       "       [ 11716824.],\n",
       "       [ 12336205.],\n",
       "       [ 12561706.],\n",
       "       [ 11850090.],\n",
       "       [ 11897272.],\n",
       "       [ 11745280.],\n",
       "       [ 11820488.],\n",
       "       [ 11840401.],\n",
       "       [ 11832390.],\n",
       "       [ 12169358.],\n",
       "       [ 11822655.],\n",
       "       [ 11905107.],\n",
       "       [       nan]], dtype=float32)"
      ]
     },
     "execution_count": 20,
     "metadata": {},
     "output_type": "execute_result"
    }
   ],
   "source": [
    "trainPredictPlot"
   ]
  },
  {
   "cell_type": "code",
   "execution_count": 21,
   "metadata": {
    "collapsed": true
   },
   "outputs": [],
   "source": [
    "dataset = scaler.inverse_transform(dataset)"
   ]
  },
  {
   "cell_type": "code",
   "execution_count": 22,
   "metadata": {
    "collapsed": true
   },
   "outputs": [],
   "source": [
    "trainPredictPlot[0] = dataset[0]"
   ]
  },
  {
   "cell_type": "code",
   "execution_count": 23,
   "metadata": {
    "collapsed": false
   },
   "outputs": [],
   "source": [
    "line_up, = plt.plot(trainPredictPlot, label='predicted')\n",
    "line_down, = plt.plot(dataset, label='observed')\n",
    "plt.legend(labels=[line_up, line_down])\n",
    "plt.show()"
   ]
  },
  {
   "cell_type": "code",
   "execution_count": 24,
   "metadata": {
    "collapsed": false
   },
   "outputs": [],
   "source": [
    "differences = trainPredictPlot -dataset"
   ]
  },
  {
   "cell_type": "code",
   "execution_count": 25,
   "metadata": {
    "collapsed": false
   },
   "outputs": [],
   "source": [
    "import numpy\n",
    "differences = numpy.asarray(differences)"
   ]
  },
  {
   "cell_type": "code",
   "execution_count": 26,
   "metadata": {
    "collapsed": false
   },
   "outputs": [],
   "source": [
    "import pandas as pd\n",
    "df = pd.read_csv('netreachvolumes.csv')\n",
    "df.columns = [['date','volume']]\n",
    "df['predicted'] = trainPredictPlot\n",
    "df['difference'] = differences"
   ]
  },
  {
   "cell_type": "code",
   "execution_count": 27,
   "metadata": {
    "collapsed": false
   },
   "outputs": [],
   "source": [
    "df.to_csv(\"netreachdifferences.csv\")"
   ]
  },
  {
   "cell_type": "code",
   "execution_count": null,
   "metadata": {
    "collapsed": true
   },
   "outputs": [],
   "source": []
  }
 ],
 "metadata": {
  "kernelspec": {
   "display_name": "Python 2",
   "language": "python",
   "name": "python2"
  },
  "language_info": {
   "codemirror_mode": {
    "name": "ipython",
    "version": 2
   },
   "file_extension": ".py",
   "mimetype": "text/x-python",
   "name": "python",
   "nbconvert_exporter": "python",
   "pygments_lexer": "ipython2",
   "version": "2.7.12"
  }
 },
 "nbformat": 4,
 "nbformat_minor": 0
}
